{
 "cells": [
  {
   "cell_type": "code",
   "execution_count": 6,
   "metadata": {},
   "outputs": [],
   "source": [
    "import sys\n",
    "import os\n",
    "import subprocess\n",
    "import pysam"
   ]
  },
  {
   "cell_type": "code",
   "execution_count": 98,
   "metadata": {},
   "outputs": [],
   "source": [
    "ref = \"/Users/christopher/Documents/LINE1/data/hg38.fa\"\n",
    "ref_idx = \"/Users/christopher/Documents/LINE1/data/hg38.mmi\"\n",
    "reads_fastq = \"/Users/christopher/Documents/LINE1/data/aba133_e464c2c4703faa4988dfffa0e8beb1294afa9c0b_0.fastq\"\n",
    "sam = \"/Users/christopher/Documents/LINE1/results/\" + os.path.splitext(os.path.basename(reads_fastq))[0] + \".sam\"\n",
    "sorted_sam = \"/Users/christopher/Documents/LINE1/results/\" + os.path.splitext(os.path.basename(sam))[0] + \".sorted.sam\"\n",
    "bam = \"/Users/christopher/Documents/LINE1/results/\" + os.path.splitext(os.path.basename(sam))[0] + \".bam\""
   ]
  },
  {
   "cell_type": "code",
   "execution_count": null,
   "metadata": {},
   "outputs": [],
   "source": [
    "os.getcwd()"
   ]
  },
  {
   "cell_type": "markdown",
   "metadata": {},
   "source": [
    "### Create index for reference\n",
    "This only needs to be done once for each reference genome being used"
   ]
  },
  {
   "cell_type": "code",
   "execution_count": 100,
   "metadata": {},
   "outputs": [],
   "source": [
    "create_index = [\"minimap2\", \"-x\", \"map-ont\", \"-d\", ref_idx, ref]"
   ]
  },
  {
   "cell_type": "code",
   "execution_count": null,
   "metadata": {},
   "outputs": [],
   "source": [
    "subprocess.run(create_index, check=True)"
   ]
  },
  {
   "cell_type": "markdown",
   "metadata": {},
   "source": [
    "### Alignment command\n"
   ]
  },
  {
   "cell_type": "code",
   "execution_count": 106,
   "metadata": {},
   "outputs": [],
   "source": [
    "minimap_cmd = [\"minimap2\", \"-ax\", \"map-ont\", ref_idx, reads_fastq, \"-o\", out_sam]"
   ]
  },
  {
   "cell_type": "markdown",
   "metadata": {},
   "source": [
    "### Align reads"
   ]
  },
  {
   "cell_type": "markdown",
   "metadata": {},
   "source": [
    "Include `check=True` to tell Python to throw an Exception if the subprocess command fails.  \n",
    "Otherwise, there will be no error and the subprocess command would just produce a nonzero return code."
   ]
  },
  {
   "cell_type": "code",
   "execution_count": 108,
   "metadata": {},
   "outputs": [
    {
     "data": {
      "text/plain": [
       "CompletedProcess(args=['minimap2', '-ax', 'map-ont', '/Users/christopher/Documents/LINE1/data/hg38.mmi', '/Users/christopher/Documents/LINE1/data/aba133_e464c2c4703faa4988dfffa0e8beb1294afa9c0b_0.fastq', '-o', '/Users/christopher/Documents/LINE1/results/aba133_e464c2c4703faa4988dfffa0e8beb1294afa9c0b_0.sam'], returncode=0)"
      ]
     },
     "execution_count": 108,
     "metadata": {},
     "output_type": "execute_result"
    }
   ],
   "source": [
    "subprocess.run(minimap_cmd, check=True)"
   ]
  },
  {
   "cell_type": "markdown",
   "metadata": {},
   "source": [
    "### Sort SAM file"
   ]
  },
  {
   "cell_type": "code",
   "execution_count": 109,
   "metadata": {},
   "outputs": [],
   "source": [
    "pysam.sort(\"-o\", sorted_sam, sam, catch_stdout=False)"
   ]
  },
  {
   "cell_type": "markdown",
   "metadata": {},
   "source": [
    "### Convert SAM to BAM"
   ]
  },
  {
   "cell_type": "code",
   "execution_count": 110,
   "metadata": {},
   "outputs": [],
   "source": [
    "pysam.view(\"-b\", \"-o\", bam, sorted_sam, catch_stdout=False)"
   ]
  },
  {
   "cell_type": "code",
   "execution_count": null,
   "metadata": {},
   "outputs": [],
   "source": []
  },
  {
   "cell_type": "code",
   "execution_count": null,
   "metadata": {},
   "outputs": [],
   "source": []
  },
  {
   "cell_type": "markdown",
   "metadata": {},
   "source": [
    "### Example running this using subprocess instead\n",
    "from: https://forgemia.inra.fr/genotoul-bioinfo/miniannotator/commit/14b056dbf85e142263544c2d4e8ad24084e10059"
   ]
  },
  {
   "cell_type": "code",
   "execution_count": null,
   "metadata": {
    "collapsed": true
   },
   "outputs": [],
   "source": [
    "def launch_minimap(self, map_f=\"map.bam\"):\n",
    "        \"\"\"\n",
    "        Launch mapping with minimap2. Compress output SAM as BAM\n",
    "\n",
    "        :param map_f: output bam file path\n",
    "        :type map_f: str\n",
    "        :return: 0 if succeed, else error return code\n",
    "        :rtype: int\n",
    "        \"\"\"\n",
    "        print(\"Mapping assembly to reference genome...\", flush=True)\n",
    "        minimap = [self.conf[\"minimap2\"], \"-ax\", \"splice\", \"-t\", str(self.conf[\"threads\"]), self.reference,\n",
    "                   self.assembly]\n",
    "        samtools_sort = [self.conf[\"samtools\"], \"sort\"]\n",
    "        samtools_bam = [self.conf[\"samtools\"], \"view\", \"-b\", \"-o\", map_file]\n",
    "        p1 = subprocess.Popen(minimap, stdout=subprocess.PIPE)\n",
    "        p2 = subprocess.Popen(samtools_sort, stdin=p1.stdout, stdout=subprocess.PIPE)\n",
    "        p1.stdout.close()\n",
    "        p3 = subprocess.Popen(samtools_bam, stdin=p2.stdout, stdout=subprocess.PIPE)\n",
    "        p2.stdout.close()\n",
    "        output = p3.communicate()[0]\n",
    "        p3.wait()\n",
    "        rcode = p3.returncode\n",
    "        self.map = map_f\n",
    "        return rcode"
   ]
  },
  {
   "cell_type": "code",
   "execution_count": null,
   "metadata": {},
   "outputs": [],
   "source": []
  },
  {
   "cell_type": "code",
   "execution_count": null,
   "metadata": {},
   "outputs": [],
   "source": []
  },
  {
   "cell_type": "markdown",
   "metadata": {},
   "source": [
    "### Convert fastq to fasta"
   ]
  },
  {
   "cell_type": "code",
   "execution_count": 10,
   "metadata": {},
   "outputs": [],
   "source": [
    "%%bash -s '/Users/christopher/Documents/LINE1/data/aba133_e464c2c4703faa4988dfffa0e8beb1294afa9c0b_0.fastq'\n",
    "gsed -n '1~4s/^@/>/p;2~4p' $1 > /Users/christopher/Documents/LINE1/data/aba133_e464c2c4703faa4988dfffa0e8beb1294afa9c0b_0.fa\n"
   ]
  },
  {
   "cell_type": "code",
   "execution_count": 15,
   "metadata": {},
   "outputs": [
    {
     "ename": "SyntaxError",
     "evalue": "invalid syntax (<ipython-input-15-5440745bc2a0>, line 2)",
     "output_type": "error",
     "traceback": [
      "\u001b[0;36m  File \u001b[0;32m\"<ipython-input-15-5440745bc2a0>\"\u001b[0;36m, line \u001b[0;32m2\u001b[0m\n\u001b[0;31m    for file in $1; do\u001b[0m\n\u001b[0m                ^\u001b[0m\n\u001b[0;31mSyntaxError\u001b[0m\u001b[0;31m:\u001b[0m invalid syntax\n"
     ]
    }
   ],
   "source": [
    "%bash \n",
    "for file in `/Users/christopher/Documents/LINE1/data/FASTQ/*.fastq`; do\n",
    "gsed -n '1~4s/^@/>/p;2~4p' $file > $(basename $file .fastq).fa; done"
   ]
  },
  {
   "cell_type": "code",
   "execution_count": 9,
   "metadata": {},
   "outputs": [
    {
     "data": {
      "text/plain": [
       "'/Users/christopher/Documents/LINE1/scripts'"
      ]
     },
     "execution_count": 9,
     "metadata": {},
     "output_type": "execute_result"
    }
   ],
   "source": []
  },
  {
   "cell_type": "markdown",
   "metadata": {},
   "source": [
    "## Make BLAST database for nanopore reads"
   ]
  },
  {
   "cell_type": "code",
   "execution_count": 17,
   "metadata": {},
   "outputs": [
    {
     "name": "stdout",
     "output_type": "stream",
     "text": [
      "USAGE\n",
      "  makeblastdb [-h] [-help] [-in input_file] [-input_type type]\n",
      "    -dbtype molecule_type [-title database_title] [-parse_seqids]\n",
      "    [-hash_index] [-mask_data mask_data_files] [-mask_id mask_algo_ids]\n",
      "    [-mask_desc mask_algo_descriptions] [-gi_mask]\n",
      "    [-gi_mask_name gi_based_mask_names] [-out database_name]\n",
      "    [-blastdb_version version] [-max_file_sz number_of_bytes]\n",
      "    [-logfile File_Name] [-taxid TaxID] [-taxid_map TaxIDMapFile] [-version]\n",
      "\n",
      "DESCRIPTION\n",
      "   Application to create BLAST databases, version 2.10.1+\n",
      "\n",
      "Use '-help' to print detailed descriptions of command line arguments\n"
     ]
    }
   ],
   "source": [
    "%%bash\n",
    "\n",
    "makeblastdb -in /Users/christopher/Documents/LINE1/data/FASTQ/FAL11389_pass_249d0593.combined.fa -parse_seqids -dbtype nucl -out "
   ]
  },
  {
   "cell_type": "code",
   "execution_count": null,
   "metadata": {},
   "outputs": [],
   "source": []
  }
 ],
 "metadata": {
  "kernelspec": {
   "display_name": "Python 3",
   "language": "python",
   "name": "python3"
  },
  "language_info": {
   "codemirror_mode": {
    "name": "ipython",
    "version": 3
   },
   "file_extension": ".py",
   "mimetype": "text/x-python",
   "name": "python",
   "nbconvert_exporter": "python",
   "pygments_lexer": "ipython3",
   "version": "3.6.10"
  }
 },
 "nbformat": 4,
 "nbformat_minor": 2
}
