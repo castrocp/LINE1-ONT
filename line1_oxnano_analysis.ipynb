{
 "cells": [
  {
   "cell_type": "code",
   "execution_count": 3,
   "metadata": {
    "collapsed": true
   },
   "outputs": [],
   "source": [
    "import sys\n",
    "import subprocess\n",
    "import shlex\n",
    "import mappy as mp"
   ]
  },
  {
   "cell_type": "markdown",
   "metadata": {},
   "source": [
    "Setting `check=True` forces the Python method to throw an exception if the subprocess called encounters an error"
   ]
  },
  {
   "cell_type": "code",
   "execution_count": 61,
   "metadata": {
    "collapsed": true
   },
   "outputs": [],
   "source": [
    "process = subprocess.run(shlex.split('ls -lh'), check=True, stdout=subprocess.PIPE) "
   ]
  },
  {
   "cell_type": "code",
   "execution_count": 62,
   "metadata": {},
   "outputs": [
    {
     "data": {
      "text/plain": [
       "CompletedProcess(args=['ls', '-lh'], returncode=0, stdout=b'total 36168\\n-rw-r--r--@ 1 christopher  staff   6.1K Jun  9 22:52 L1.3.fasta\\n-rw-r--r--  1 christopher  staff   1.4K Jun 15 17:08 L1_OxNano_analysis.ipynb\\n-rw-r--r--@ 1 christopher  staff    18M Jun 10 11:48 aba133_e464c2c4703faa4988dfffa0e8beb1294afa9c0b_0.fastq\\n')"
      ]
     },
     "execution_count": 62,
     "metadata": {},
     "output_type": "execute_result"
    }
   ],
   "source": [
    "process"
   ]
  }
 ],
 "metadata": {
  "kernelspec": {
   "display_name": "Python 3",
   "language": "python",
   "name": "python3"
  },
  "language_info": {
   "codemirror_mode": {
    "name": "ipython",
    "version": 3
   },
   "file_extension": ".py",
   "mimetype": "text/x-python",
   "name": "python",
   "nbconvert_exporter": "python",
   "pygments_lexer": "ipython3",
   "version": "3.6.2"
  }
 },
 "nbformat": 4,
 "nbformat_minor": 2
}
